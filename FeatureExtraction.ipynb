{
 "cells": [
  {
   "cell_type": "code",
   "execution_count": 2,
   "metadata": {},
   "outputs": [
    {
     "name": "stdout",
     "output_type": "stream",
     "text": [
      "pre_trained_model.layers: [<tensorflow.python.keras.engine.input_layer.InputLayer object at 0x000001AC795B5320>, <tensorflow.python.keras.layers.convolutional.Conv2D object at 0x000001AC795E0390>, <tensorflow.python.keras.layers.normalization.BatchNormalization object at 0x000001AC7956FBE0>, <tensorflow.python.keras.layers.core.Activation object at 0x000001AC795247F0>, <tensorflow.python.keras.layers.convolutional.Conv2D object at 0x000001AC792AFBE0>, <tensorflow.python.keras.layers.normalization.BatchNormalization object at 0x000001AC8EC32A90>, <tensorflow.python.keras.layers.core.Activation object at 0x000001AC8EC32F60>, <tensorflow.python.keras.layers.convolutional.Conv2D object at 0x000001AC6083B4A8>, <tensorflow.python.keras.layers.normalization.BatchNormalization object at 0x000001AC6087FF98>, <tensorflow.python.keras.layers.core.Activation object at 0x000001AC6087FFD0>, <tensorflow.python.keras.layers.pooling.MaxPooling2D object at 0x000001AC608B2FD0>, <tensorflow.python.keras.layers.convolutional.Conv2D object at 0x000001AC608D82B0>, <tensorflow.python.keras.layers.normalization.BatchNormalization object at 0x000001AC609760F0>, <tensorflow.python.keras.layers.core.Activation object at 0x000001AC60976550>, <tensorflow.python.keras.layers.convolutional.Conv2D object at 0x000001AC6098A438>, <tensorflow.python.keras.layers.normalization.BatchNormalization object at 0x000001AC609D8C50>, <tensorflow.python.keras.layers.core.Activation object at 0x000001AC609D8F60>, <tensorflow.python.keras.layers.pooling.MaxPooling2D object at 0x000001AC60A275F8>, <tensorflow.python.keras.layers.convolutional.Conv2D object at 0x000001AC62BB7E48>, <tensorflow.python.keras.layers.normalization.BatchNormalization object at 0x000001AC62C45240>, <tensorflow.python.keras.layers.core.Activation object at 0x000001AC62C45A58>, <tensorflow.python.keras.layers.convolutional.Conv2D object at 0x000001AC60ACB748>, <tensorflow.python.keras.layers.convolutional.Conv2D object at 0x000001AC62C7B780>, <tensorflow.python.keras.layers.normalization.BatchNormalization object at 0x000001AC62AE99B0>, <tensorflow.python.keras.layers.normalization.BatchNormalization object at 0x000001AC62CDE9B0>, <tensorflow.python.keras.layers.core.Activation object at 0x000001AC62AE9B70>, <tensorflow.python.keras.layers.core.Activation object at 0x000001AC62CDEB70>, <tensorflow.python.keras.layers.pooling.AveragePooling2D object at 0x000001AC62DABE48>, <tensorflow.python.keras.layers.convolutional.Conv2D object at 0x000001AC60A05C50>, <tensorflow.python.keras.layers.convolutional.Conv2D object at 0x000001AC62B3B5F8>, <tensorflow.python.keras.layers.convolutional.Conv2D object at 0x000001AC62D305F8>, <tensorflow.python.keras.layers.convolutional.Conv2D object at 0x000001AC62DD0AC8>, <tensorflow.python.keras.layers.normalization.BatchNormalization object at 0x000001AC60AA4A90>, <tensorflow.python.keras.layers.normalization.BatchNormalization object at 0x000001AC62B8CDA0>, <tensorflow.python.keras.layers.normalization.BatchNormalization object at 0x000001AC62D7BDA0>, <tensorflow.python.keras.layers.normalization.BatchNormalization object at 0x000001AC62E37EB8>, <tensorflow.python.keras.layers.core.Activation object at 0x000001AC60AA4F98>, <tensorflow.python.keras.layers.core.Activation object at 0x000001AC62B8CEF0>, <tensorflow.python.keras.layers.core.Activation object at 0x000001AC62D7BEF0>, <tensorflow.python.keras.layers.core.Activation object at 0x000001AC62E6E4E0>, <tensorflow.python.keras.layers.merge.Concatenate object at 0x000001AC62E823C8>, <tensorflow.python.keras.layers.convolutional.Conv2D object at 0x000001AC63077400>, <tensorflow.python.keras.layers.normalization.BatchNormalization object at 0x000001AC630BAF60>, <tensorflow.python.keras.layers.core.Activation object at 0x000001AC630BAF98>, <tensorflow.python.keras.layers.convolutional.Conv2D object at 0x000001AC62F01EB8>, <tensorflow.python.keras.layers.convolutional.Conv2D object at 0x000001AC630EBFD0>, <tensorflow.python.keras.layers.normalization.BatchNormalization object at 0x000001AC62F842E8>, <tensorflow.python.keras.layers.normalization.BatchNormalization object at 0x000001AC631792E8>, <tensorflow.python.keras.layers.core.Activation object at 0x000001AC62F84C50>, <tensorflow.python.keras.layers.core.Activation object at 0x000001AC63179C50>, <tensorflow.python.keras.layers.pooling.AveragePooling2D object at 0x000001AC6326A400>, <tensorflow.python.keras.layers.convolutional.Conv2D object at 0x000001AC62E6EA20>, <tensorflow.python.keras.layers.convolutional.Conv2D object at 0x000001AC62FBC828>, <tensorflow.python.keras.layers.convolutional.Conv2D object at 0x000001AC631B1828>, <tensorflow.python.keras.layers.convolutional.Conv2D object at 0x000001AC63249A58>, <tensorflow.python.keras.layers.normalization.BatchNormalization object at 0x000001AC62ED1C88>, <tensorflow.python.keras.layers.normalization.BatchNormalization object at 0x000001AC63026A58>, <tensorflow.python.keras.layers.normalization.BatchNormalization object at 0x000001AC63214A58>, <tensorflow.python.keras.layers.normalization.BatchNormalization object at 0x000001AC632E0B70>, <tensorflow.python.keras.layers.core.Activation object at 0x000001AC62F012B0>, <tensorflow.python.keras.layers.core.Activation object at 0x000001AC63026C18>, <tensorflow.python.keras.layers.core.Activation object at 0x000001AC63214C18>, <tensorflow.python.keras.layers.core.Activation object at 0x000001AC632E0D30>, <tensorflow.python.keras.layers.merge.Concatenate object at 0x000001AC63307588>, <tensorflow.python.keras.layers.convolutional.Conv2D object at 0x000001AC634F88D0>, <tensorflow.python.keras.layers.normalization.BatchNormalization object at 0x000001AC6355DB00>, <tensorflow.python.keras.layers.core.Activation object at 0x000001AC6355DD30>, <tensorflow.python.keras.layers.convolutional.Conv2D object at 0x000001AC633BC470>, <tensorflow.python.keras.layers.convolutional.Conv2D object at 0x000001AC635AC4A8>, <tensorflow.python.keras.layers.normalization.BatchNormalization object at 0x000001AC63401F28>, <tensorflow.python.keras.layers.normalization.BatchNormalization object at 0x000001AC635F5F28>, <tensorflow.python.keras.layers.core.Activation object at 0x000001AC63401E48>, <tensorflow.python.keras.layers.core.Activation object at 0x000001AC635F5E48>, <tensorflow.python.keras.layers.pooling.AveragePooling2D object at 0x000001AC636E88D0>, <tensorflow.python.keras.layers.convolutional.Conv2D object at 0x000001AC63307DD8>, <tensorflow.python.keras.layers.convolutional.Conv2D object at 0x000001AC63457240>, <tensorflow.python.keras.layers.convolutional.Conv2D object at 0x000001AC6364E240>, <tensorflow.python.keras.layers.convolutional.Conv2D object at 0x000001AC636E8588>, <tensorflow.python.keras.layers.normalization.BatchNormalization object at 0x000001AC6336D7F0>, <tensorflow.python.keras.layers.normalization.BatchNormalization object at 0x000001AC634C2390>, <tensorflow.python.keras.layers.normalization.BatchNormalization object at 0x000001AC636B4390>, <tensorflow.python.keras.layers.normalization.BatchNormalization object at 0x000001AC637802E8>, <tensorflow.python.keras.layers.core.Activation object at 0x000001AC6339E048>, <tensorflow.python.keras.layers.core.Activation object at 0x000001AC634C2CF8>, <tensorflow.python.keras.layers.core.Activation object at 0x000001AC636B4CF8>, <tensorflow.python.keras.layers.core.Activation object at 0x000001AC63780B70>, <tensorflow.python.keras.layers.merge.Concatenate object at 0x000001AC63780CC0>, <tensorflow.python.keras.layers.convolutional.Conv2D object at 0x000001AC638542E8>, <tensorflow.python.keras.layers.normalization.BatchNormalization object at 0x000001AC638A3BA8>, <tensorflow.python.keras.layers.core.Activation object at 0x000001AC638A3DD8>, <tensorflow.python.keras.layers.convolutional.Conv2D object at 0x000001AC638EF550>, <tensorflow.python.keras.layers.normalization.BatchNormalization object at 0x000001AC63937FD0>, <tensorflow.python.keras.layers.core.Activation object at 0x000001AC6396C710>, <tensorflow.python.keras.layers.convolutional.Conv2D object at 0x000001AC63780F60>, <tensorflow.python.keras.layers.convolutional.Conv2D object at 0x000001AC63995438>, <tensorflow.python.keras.layers.normalization.BatchNormalization object at 0x000001AC63818518>, <tensorflow.python.keras.layers.normalization.BatchNormalization object at 0x000001AC639F7668>, <tensorflow.python.keras.layers.core.Activation object at 0x000001AC63818B70>, <tensorflow.python.keras.layers.core.Activation object at 0x000001AC639F7E10>, <tensorflow.python.keras.layers.pooling.MaxPooling2D object at 0x000001AC63A48320>, <tensorflow.python.keras.layers.merge.Concatenate object at 0x000001AC63A2D630>, <tensorflow.python.keras.layers.convolutional.Conv2D object at 0x000001AC8EC321D0>, <tensorflow.python.keras.layers.normalization.BatchNormalization object at 0x000001AC8EC13748>, <tensorflow.python.keras.layers.core.Activation object at 0x000001AC8EC13518>, <tensorflow.python.keras.layers.convolutional.Conv2D object at 0x000001AC8EC07C50>, <tensorflow.python.keras.layers.normalization.BatchNormalization object at 0x000001AC8EBDD400>, <tensorflow.python.keras.layers.core.Activation object at 0x000001AC8EBDDB00>, <tensorflow.python.keras.layers.convolutional.Conv2D object at 0x000001AC63AE9470>, <tensorflow.python.keras.layers.convolutional.Conv2D object at 0x000001AC8EBD4710>, <tensorflow.python.keras.layers.normalization.BatchNormalization object at 0x000001AC63B4D710>, <tensorflow.python.keras.layers.normalization.BatchNormalization object at 0x000001AC8EBB4978>, <tensorflow.python.keras.layers.core.Activation object at 0x000001AC63B4DEB8>, <tensorflow.python.keras.layers.core.Activation object at 0x000001AC8EBB46D8>, <tensorflow.python.keras.layers.convolutional.Conv2D object at 0x000001AC63B9B3C8>, <tensorflow.python.keras.layers.convolutional.Conv2D object at 0x000001AC8EBA9048>, <tensorflow.python.keras.layers.normalization.BatchNormalization object at 0x000001AC63BE8C50>, <tensorflow.python.keras.layers.normalization.BatchNormalization object at 0x000001AC8EB816A0>, <tensorflow.python.keras.layers.core.Activation object at 0x000001AC63BE8F60>, <tensorflow.python.keras.layers.core.Activation object at 0x000001AC8EB814E0>, <tensorflow.python.keras.layers.pooling.AveragePooling2D object at 0x000001AC79AA8860>, <tensorflow.python.keras.layers.convolutional.Conv2D object at 0x000001AC63A2D668>, <tensorflow.python.keras.layers.convolutional.Conv2D object at 0x000001AC63C1AC88>, <tensorflow.python.keras.layers.convolutional.Conv2D object at 0x000001AC79AE35F8>, <tensorflow.python.keras.layers.convolutional.Conv2D object at 0x000001AC79AA8BA8>, <tensorflow.python.keras.layers.normalization.BatchNormalization object at 0x000001AC63AC7B70>, <tensorflow.python.keras.layers.normalization.BatchNormalization object at 0x000001AC63C397F0>, <tensorflow.python.keras.layers.normalization.BatchNormalization object at 0x000001AC79ABAF98>, <tensorflow.python.keras.layers.normalization.BatchNormalization object at 0x000001AC79A88240>, <tensorflow.python.keras.layers.core.Activation object at 0x000001AC63AC7940>, <tensorflow.python.keras.layers.core.Activation object at 0x000001AC5F7781D0>, <tensorflow.python.keras.layers.core.Activation object at 0x000001AC79ABA518>, <tensorflow.python.keras.layers.core.Activation object at 0x000001AC79A88128>, <tensorflow.python.keras.layers.merge.Concatenate object at 0x000001AC79A7DB38>, <tensorflow.python.keras.layers.convolutional.Conv2D object at 0x000001AC799C2160>, <tensorflow.python.keras.layers.normalization.BatchNormalization object at 0x000001AC799986D8>, <tensorflow.python.keras.layers.core.Activation object at 0x000001AC79998518>, <tensorflow.python.keras.layers.convolutional.Conv2D object at 0x000001AC7998D630>, <tensorflow.python.keras.layers.normalization.BatchNormalization object at 0x000001AC79964F60>, <tensorflow.python.keras.layers.core.Activation object at 0x000001AC799646A0>, <tensorflow.python.keras.layers.convolutional.Conv2D object at 0x000001AC79A531D0>, <tensorflow.python.keras.layers.convolutional.Conv2D object at 0x000001AC799598D0>, <tensorflow.python.keras.layers.normalization.BatchNormalization object at 0x000001AC79A29780>, <tensorflow.python.keras.layers.normalization.BatchNormalization object at 0x000001AC7993B2B0>, <tensorflow.python.keras.layers.core.Activation object at 0x000001AC79A29470>, <tensorflow.python.keras.layers.core.Activation object at 0x000001AC7993B1D0>, <tensorflow.python.keras.layers.convolutional.Conv2D object at 0x000001AC79A20C18>, <tensorflow.python.keras.layers.convolutional.Conv2D object at 0x000001AC7992E198>, <tensorflow.python.keras.layers.normalization.BatchNormalization object at 0x000001AC799F5EB8>, <tensorflow.python.keras.layers.normalization.BatchNormalization object at 0x000001AC79906860>, <tensorflow.python.keras.layers.core.Activation object at 0x000001AC799F53C8>, <tensorflow.python.keras.layers.core.Activation object at 0x000001AC799066A0>, <tensorflow.python.keras.layers.pooling.AveragePooling2D object at 0x000001AC798C99B0>, <tensorflow.python.keras.layers.convolutional.Conv2D object at 0x000001AC79A7D160>, <tensorflow.python.keras.layers.convolutional.Conv2D object at 0x000001AC799EC710>, <tensorflow.python.keras.layers.convolutional.Conv2D object at 0x000001AC798FC2E8>, <tensorflow.python.keras.layers.convolutional.Conv2D object at 0x000001AC798C9CF8>, <tensorflow.python.keras.layers.normalization.BatchNormalization object at 0x000001AC79A5D550>, <tensorflow.python.keras.layers.normalization.BatchNormalization object at 0x000001AC799CC198>, <tensorflow.python.keras.layers.normalization.BatchNormalization object at 0x000001AC798D4EB8>, <tensorflow.python.keras.layers.normalization.BatchNormalization object at 0x000001AC798AACF8>, <tensorflow.python.keras.layers.core.Activation object at 0x000001AC79A53E48>, <tensorflow.python.keras.layers.core.Activation object at 0x000001AC799CC2E8>, <tensorflow.python.keras.layers.core.Activation object at 0x000001AC798D46A0>, <tensorflow.python.keras.layers.core.Activation object at 0x000001AC798AA320>, <tensorflow.python.keras.layers.merge.Concatenate object at 0x000001AC79892C50>, <tensorflow.python.keras.layers.convolutional.Conv2D object at 0x000001AC795E91D0>, <tensorflow.python.keras.layers.normalization.BatchNormalization object at 0x000001AC795C1828>, <tensorflow.python.keras.layers.core.Activation object at 0x000001AC795C1668>, <tensorflow.python.keras.layers.convolutional.Conv2D object at 0x000001AC795B52B0>, <tensorflow.python.keras.layers.normalization.BatchNormalization object at 0x000001AC7958BFD0>, <tensorflow.python.keras.layers.core.Activation object at 0x000001AC7958B7B8>, <tensorflow.python.keras.layers.convolutional.Conv2D object at 0x000001AC7986B198>, <tensorflow.python.keras.layers.convolutional.Conv2D object at 0x000001AC795829B0>, <tensorflow.python.keras.layers.normalization.BatchNormalization object at 0x000001AC79843F60>, <tensorflow.python.keras.layers.normalization.BatchNormalization object at 0x000001AC79563F60>, <tensorflow.python.keras.layers.core.Activation object at 0x000001AC79843DA0>, <tensorflow.python.keras.layers.core.Activation object at 0x000001AC795630B8>, <tensorflow.python.keras.layers.convolutional.Conv2D object at 0x000001AC79838630>, <tensorflow.python.keras.layers.convolutional.Conv2D object at 0x000001AC79558240>, <tensorflow.python.keras.layers.normalization.BatchNormalization object at 0x000001AC7961EF60>, <tensorflow.python.keras.layers.normalization.BatchNormalization object at 0x000001AC7952F940>, <tensorflow.python.keras.layers.core.Activation object at 0x000001AC7961E668>, <tensorflow.python.keras.layers.core.Activation object at 0x000001AC7952F860>, <tensorflow.python.keras.layers.pooling.AveragePooling2D object at 0x000001AC794F1940>, <tensorflow.python.keras.layers.convolutional.Conv2D object at 0x000001AC79892240>, <tensorflow.python.keras.layers.convolutional.Conv2D object at 0x000001AC796138D0>, <tensorflow.python.keras.layers.convolutional.Conv2D object at 0x000001AC795199E8>, <tensorflow.python.keras.layers.convolutional.Conv2D object at 0x000001AC794F1C88>, <tensorflow.python.keras.layers.normalization.BatchNormalization object at 0x000001AC7986B470>, <tensorflow.python.keras.layers.normalization.BatchNormalization object at 0x000001AC795F6278>, <tensorflow.python.keras.layers.normalization.BatchNormalization object at 0x000001AC79503080>, <tensorflow.python.keras.layers.normalization.BatchNormalization object at 0x000001AC794C8AC8>, <tensorflow.python.keras.layers.core.Activation object at 0x000001AC7986B6D8>, <tensorflow.python.keras.layers.core.Activation object at 0x000001AC795F69B0>, <tensorflow.python.keras.layers.core.Activation object at 0x000001AC794FCF28>, <tensorflow.python.keras.layers.core.Activation object at 0x000001AC794C8208>, <tensorflow.python.keras.layers.merge.Concatenate object at 0x000001AC794BCE48>, <tensorflow.python.keras.layers.convolutional.Conv2D object at 0x000001AC79270240>, <tensorflow.python.keras.layers.normalization.BatchNormalization object at 0x000001AC792478D0>, <tensorflow.python.keras.layers.core.Activation object at 0x000001AC792477F0>, <tensorflow.python.keras.layers.convolutional.Conv2D object at 0x000001AC792349B0>, <tensorflow.python.keras.layers.normalization.BatchNormalization object at 0x000001AC7921E080>, <tensorflow.python.keras.layers.core.Activation object at 0x000001AC79213828>, <tensorflow.python.keras.layers.convolutional.Conv2D object at 0x000001AC79493208>, <tensorflow.python.keras.layers.convolutional.Conv2D object at 0x000001AC7920A908>, <tensorflow.python.keras.layers.normalization.BatchNormalization object at 0x000001AC792D8828>, <tensorflow.python.keras.layers.normalization.BatchNormalization object at 0x000001AC791EB358>, <tensorflow.python.keras.layers.core.Activation object at 0x000001AC792D8668>, <tensorflow.python.keras.layers.core.Activation object at 0x000001AC791EB048>, <tensorflow.python.keras.layers.convolutional.Conv2D object at 0x000001AC792CD240>, <tensorflow.python.keras.layers.convolutional.Conv2D object at 0x000001AC791DD358>, <tensorflow.python.keras.layers.normalization.BatchNormalization object at 0x000001AC792A6FD0>, <tensorflow.python.keras.layers.normalization.BatchNormalization object at 0x000001AC791B7208>, <tensorflow.python.keras.layers.core.Activation object at 0x000001AC792A67B8>, <tensorflow.python.keras.layers.core.Activation object at 0x000001AC791B79B0>, <tensorflow.python.keras.layers.pooling.AveragePooling2D object at 0x000001AC78FC8A90>, <tensorflow.python.keras.layers.convolutional.Conv2D object at 0x000001AC794BC2E8>, <tensorflow.python.keras.layers.convolutional.Conv2D object at 0x000001AC7929C9B0>, <tensorflow.python.keras.layers.convolutional.Conv2D object at 0x000001AC78FF1940>, <tensorflow.python.keras.layers.convolutional.Conv2D object at 0x000001AC78FC8DD8>, <tensorflow.python.keras.layers.normalization.BatchNormalization object at 0x000001AC794935C0>, <tensorflow.python.keras.layers.normalization.BatchNormalization object at 0x000001AC7927B2B0>, <tensorflow.python.keras.layers.normalization.BatchNormalization object at 0x000001AC78FDC828>, <tensorflow.python.keras.layers.normalization.BatchNormalization object at 0x000001AC78F9ECF8>, <tensorflow.python.keras.layers.core.Activation object at 0x000001AC79493828>, <tensorflow.python.keras.layers.core.Activation object at 0x000001AC7927B0B8>, <tensorflow.python.keras.layers.core.Activation object at 0x000001AC78FD1860>, <tensorflow.python.keras.layers.core.Activation object at 0x000001AC78F9E358>, <tensorflow.python.keras.layers.merge.Concatenate object at 0x000001AC78F94E10>, <tensorflow.python.keras.layers.convolutional.Conv2D object at 0x000001AC78F2D7F0>, <tensorflow.python.keras.layers.normalization.BatchNormalization object at 0x000001AC78F16080>, <tensorflow.python.keras.layers.core.Activation object at 0x000001AC78F0D748>, <tensorflow.python.keras.layers.convolutional.Conv2D object at 0x000001AC78EFF2E8>, <tensorflow.python.keras.layers.normalization.BatchNormalization object at 0x000001AC78EE4390>, <tensorflow.python.keras.layers.core.Activation object at 0x000001AC78EE4080>, <tensorflow.python.keras.layers.convolutional.Conv2D object at 0x000001AC78F945F8>, <tensorflow.python.keras.layers.convolutional.Conv2D object at 0x000001AC78ECF898>, <tensorflow.python.keras.layers.normalization.BatchNormalization object at 0x000001AC78F737B8>, <tensorflow.python.keras.layers.normalization.BatchNormalization object at 0x000001AC78EAE1D0>, <tensorflow.python.keras.layers.core.Activation object at 0x000001AC78F69FD0>, <tensorflow.python.keras.layers.core.Activation object at 0x000001AC78EAE978>, <tensorflow.python.keras.layers.convolutional.Conv2D object at 0x000001AC78F692B0>, <tensorflow.python.keras.layers.convolutional.Conv2D object at 0x000001AC78E9AAC8>, <tensorflow.python.keras.layers.normalization.BatchNormalization object at 0x000001AC78F41978>, <tensorflow.python.keras.layers.normalization.BatchNormalization object at 0x000001AC78E85048>, <tensorflow.python.keras.layers.core.Activation object at 0x000001AC78F41898>, <tensorflow.python.keras.layers.core.Activation object at 0x000001AC70B0B898>, <tensorflow.python.keras.layers.pooling.MaxPooling2D object at 0x000001AC70B00BA8>, <tensorflow.python.keras.layers.merge.Concatenate object at 0x000001AC70B00F98>, <tensorflow.python.keras.layers.convolutional.Conv2D object at 0x000001AC6F1F8978>, <tensorflow.python.keras.layers.normalization.BatchNormalization object at 0x000001AC6F1D1438>, <tensorflow.python.keras.layers.core.Activation object at 0x000001AC6F1D15C0>, <tensorflow.python.keras.layers.convolutional.Conv2D object at 0x000001AC6F28DA90>, <tensorflow.python.keras.layers.convolutional.Conv2D object at 0x000001AC6F1D11D0>, <tensorflow.python.keras.layers.normalization.BatchNormalization object at 0x000001AC6F26D470>, <tensorflow.python.keras.layers.normalization.BatchNormalization object at 0x000001AC6EE495F8>, <tensorflow.python.keras.layers.core.Activation object at 0x000001AC6F26D160>, <tensorflow.python.keras.layers.core.Activation object at 0x000001AC6EE49438>, <tensorflow.python.keras.layers.convolutional.Conv2D object at 0x000001AC6F2642B0>, <tensorflow.python.keras.layers.convolutional.Conv2D object at 0x000001AC6F225208>, <tensorflow.python.keras.layers.convolutional.Conv2D object at 0x000001AC6EE3E550>, <tensorflow.python.keras.layers.convolutional.Conv2D object at 0x000001AC6EDFFD30>, <tensorflow.python.keras.layers.pooling.AveragePooling2D object at 0x000001AC6EDD65F8>, <tensorflow.python.keras.layers.convolutional.Conv2D object at 0x000001AC70B00EB8>, <tensorflow.python.keras.layers.normalization.BatchNormalization object at 0x000001AC6F2399B0>, <tensorflow.python.keras.layers.normalization.BatchNormalization object at 0x000001AC6F20F0B8>, <tensorflow.python.keras.layers.normalization.BatchNormalization object at 0x000001AC6EE15898>, <tensorflow.python.keras.layers.normalization.BatchNormalization object at 0x000001AC6EDEDC88>, <tensorflow.python.keras.layers.convolutional.Conv2D object at 0x000001AC6EDD63C8>, <tensorflow.python.keras.layers.normalization.BatchNormalization object at 0x000001AC70AD8470>, <tensorflow.python.keras.layers.core.Activation object at 0x000001AC6F239C18>, <tensorflow.python.keras.layers.core.Activation object at 0x000001AC6F205828>, <tensorflow.python.keras.layers.core.Activation object at 0x000001AC6EE15EB8>, <tensorflow.python.keras.layers.core.Activation object at 0x000001AC6EDEDBA8>, <tensorflow.python.keras.layers.normalization.BatchNormalization object at 0x000001AC6EA2B2B0>, <tensorflow.python.keras.layers.core.Activation object at 0x000001AC70AD86A0>, <tensorflow.python.keras.layers.merge.Concatenate object at 0x000001AC6F1F82E8>, <tensorflow.python.keras.layers.merge.Concatenate object at 0x000001AC6EDD6E80>, <tensorflow.python.keras.layers.core.Activation object at 0x000001AC6EA2B4E0>, <tensorflow.python.keras.layers.merge.Concatenate object at 0x000001AC6EA23DD8>, <tensorflow.python.keras.layers.convolutional.Conv2D object at 0x000001AC6E447CF8>, <tensorflow.python.keras.layers.normalization.BatchNormalization object at 0x000001AC6E4200F0>, <tensorflow.python.keras.layers.core.Activation object at 0x000001AC6E413AC8>, <tensorflow.python.keras.layers.convolutional.Conv2D object at 0x000001AC6E9FA208>, <tensorflow.python.keras.layers.convolutional.Conv2D object at 0x000001AC6E413438>, <tensorflow.python.keras.layers.normalization.BatchNormalization object at 0x000001AC6E9D0748>, <tensorflow.python.keras.layers.normalization.BatchNormalization object at 0x000001AC6CEBACC0>, <tensorflow.python.keras.layers.core.Activation object at 0x000001AC6E9D0518>, <tensorflow.python.keras.layers.core.Activation object at 0x000001AC6CEBA278>, <tensorflow.python.keras.layers.convolutional.Conv2D object at 0x000001AC6E487048>, <tensorflow.python.keras.layers.convolutional.Conv2D object at 0x000001AC6E472470>, <tensorflow.python.keras.layers.convolutional.Conv2D object at 0x000001AC6CEA7C18>, <tensorflow.python.keras.layers.convolutional.Conv2D object at 0x000001AC6CE884A8>, <tensorflow.python.keras.layers.pooling.AveragePooling2D object at 0x000001AC6BBD9780>, <tensorflow.python.keras.layers.convolutional.Conv2D object at 0x000001AC6EA23D30>, <tensorflow.python.keras.layers.normalization.BatchNormalization object at 0x000001AC6E479E80>, <tensorflow.python.keras.layers.normalization.BatchNormalization object at 0x000001AC6E4532E8>, <tensorflow.python.keras.layers.normalization.BatchNormalization object at 0x000001AC6CE92278>, <tensorflow.python.keras.layers.normalization.BatchNormalization object at 0x000001AC6BBEDB70>, <tensorflow.python.keras.layers.convolutional.Conv2D object at 0x000001AC6BBE3C88>, <tensorflow.python.keras.layers.normalization.BatchNormalization object at 0x000001AC6E9FA4E0>, <tensorflow.python.keras.layers.core.Activation object at 0x000001AC6E4796A0>, <tensorflow.python.keras.layers.core.Activation object at 0x000001AC6E453128>, <tensorflow.python.keras.layers.core.Activation object at 0x000001AC6CE92E10>, <tensorflow.python.keras.layers.core.Activation object at 0x000001AC6BBEDDA0>, <tensorflow.python.keras.layers.normalization.BatchNormalization object at 0x000001AC6BB3D240>, <tensorflow.python.keras.layers.core.Activation object at 0x000001AC6E9FA710>, <tensorflow.python.keras.layers.merge.Concatenate object at 0x000001AC6E447C88>, <tensorflow.python.keras.layers.merge.Concatenate object at 0x000001AC6BBE3CC0>, <tensorflow.python.keras.layers.core.Activation object at 0x000001AC6BB3DB38>, <tensorflow.python.keras.layers.merge.Concatenate object at 0x000001AC6BB147F0>]\n",
      "pre_trained_model.layers shape: 311\n",
      "last layer output shape: (None, 7, 7, 768)\n"
     ]
    }
   ],
   "source": [
    "# -*- coding: utf-8 -*-\n",
    "\"\"\"\n",
    "Created on Sat Sep  1 16:38:33 2018\n",
    "\n",
    "@author: jinlong\n",
    "\"\"\"\n",
    "\n",
    "import os\n",
    "\n",
    "import zipfile\n",
    "import numpy as np\n",
    "\n",
    "from tensorflow.keras.preprocessing.image import ImageDataGenerator\n",
    "from tensorflow.keras import layers\n",
    "from tensorflow.keras import Model\n",
    "from tensorflow.keras.applications.inception_v3 import InceptionV3\n",
    "local_weights_file = './tmp/inception_v3_weights_tf_dim_ordering_tf_kernels_notop.h5'\n",
    "pre_trained_model = InceptionV3(\n",
    "    input_shape=(150, 150, 3), include_top=False, weights=None)\n",
    "pre_trained_model.load_weights(local_weights_file)\n",
    "print(\"pre_trained_model.layers:\",pre_trained_model.layers )\n",
    "print(\"pre_trained_model.layers size:\",np.size(pre_trained_model.layers) )\n",
    "#include_top=False argument, we load a network that \n",
    "#doesn't include the classification layers \n",
    "#at the top—ideal for feature extraction.\n",
    "for layer in pre_trained_model.layers:\n",
    "  layer.trainable = False\n",
    "  \n",
    "last_layer = pre_trained_model.get_layer('mixed7')\n",
    "print('last layer output shape:', last_layer.output_shape)\n",
    "last_output = last_layer.output\n",
    "\n"
   ]
  },
  {
   "cell_type": "code",
   "execution_count": 3,
   "metadata": {},
   "outputs": [
    {
     "name": "stdout",
     "output_type": "stream",
     "text": [
      "end\n"
     ]
    }
   ],
   "source": [
    "from tensorflow.keras.optimizers import RMSprop\n",
    "\n",
    "# Flatten the output layer to 1 dimension\n",
    "x = layers.Flatten()(last_output)\n",
    "# Add a fully connected layer with 1,024 hidden units and ReLU activation\n",
    "x = layers.Dense(1024/32, activation='relu')(x)\n",
    "# Add a dropout rate of 0.2\n",
    "x = layers.Dropout(0.2)(x)\n",
    "# Add a final sigmoid layer for classification\n",
    "x = layers.Dense(1, activation='sigmoid')(x)\n",
    "\n",
    "# Configure and compile the model\n",
    "model = Model(pre_trained_model.input, x)\n",
    "model.compile(loss='binary_crossentropy',\n",
    "              optimizer=RMSprop(lr=0.0001),\n",
    "              metrics=['acc'])\n",
    "\n",
    "\n",
    "#local_zip = .'/tmp/cats_and_dogs_filtered.zip'zip_ref = zipfile.ZipFile(local_zip, 'r')#zip_ref.extractall('./tmp')\n",
    "#zip_ref.close()\n",
    "\n",
    "# Define our example directories and files\n",
    "base_dir = './tmp/cats_and_dogs_filtered'\n",
    "train_dir = os.path.join(base_dir, 'train')\n",
    "validation_dir = os.path.join(base_dir, 'validation')\n",
    "\n",
    "# Directory with our training cat pictures\n",
    "train_cats_dir = os.path.join(train_dir, 'cats')\n",
    "\n",
    "# Directory with our training dog pictures\n",
    "train_dogs_dir = os.path.join(train_dir, 'dogs')\n",
    "\n",
    "# Directory with our validation cat pictures\n",
    "validation_cats_dir = os.path.join(validation_dir, 'cats')\n",
    "\n",
    "# Directory with our validation dog pictures\n",
    "validation_dogs_dir = os.path.join(validation_dir, 'dogs')\n",
    "\n",
    "train_cat_fnames = os.listdir(train_cats_dir)\n",
    "train_dog_fnames = os.listdir(train_dogs_dir)\n",
    "\n",
    "\n",
    "print(\"end\")\n",
    "#ResourceExhaustedError: OOM when allocating tensor with shape[3,3,192,320] and type float on\n",
    "#/job:localhost/replica:0/task:0/device:GPU:0 by allocator GPU_0_bfc\n",
    "#[10,256,400,528]的第一个参数表示batch_size的大小，第二个参数表示某层卷积核的个数，第三个参数表示图像的高，第四个参数表示图像的长"
   ]
  },
  {
   "cell_type": "code",
   "execution_count": 5,
   "metadata": {},
   "outputs": [
    {
     "name": "stdout",
     "output_type": "stream",
     "text": [
      "Found 2000 images belonging to 2 classes.\n",
      "Found 1000 images belonging to 2 classes.\n",
      "Epoch 1/2\n",
      " - 37s - loss: 0.5008 - acc: 0.7715 - val_loss: 0.1894 - val_acc: 0.9180\n",
      "Epoch 2/2\n",
      " - 33s - loss: 0.3757 - acc: 0.8295 - val_loss: 0.1753 - val_acc: 0.9340\n"
     ]
    }
   ],
   "source": [
    "# Add our data-augmentation parameters to ImageDataGenerator\n",
    "train_datagen = ImageDataGenerator(\n",
    "    rescale=1./255,\n",
    "    rotation_range=40,\n",
    "    width_shift_range=0.2,\n",
    "    height_shift_range=0.2,\n",
    "    shear_range=0.2,\n",
    "    zoom_range=0.2,\n",
    "    horizontal_flip=True)\n",
    "\n",
    "# Note that the validation data should not be augmented!\n",
    "test_datagen = ImageDataGenerator(rescale=1./255)\n",
    "\n",
    "train_generator = train_datagen.flow_from_directory(\n",
    "        train_dir, # This is the source directory for training images\n",
    "        target_size=(150, 150),  # All images will be resized to 150x150\n",
    "        batch_size=20,#20,\n",
    "        # Since we use binary_crossentropy loss, we need binary labels\n",
    "        class_mode='binary')\n",
    "\n",
    "# Flow validation images in batches of 20 using test_datagen generator\n",
    "validation_generator = test_datagen.flow_from_directory(\n",
    "        validation_dir,\n",
    "        target_size=(150, 150),\n",
    "        batch_size=20,#20,\n",
    "        class_mode='binary')\n",
    "\n",
    "history = model.fit_generator(\n",
    "      train_generator,\n",
    "      steps_per_epoch=100,\n",
    "      epochs=2,\n",
    "      validation_data=validation_generator,\n",
    "      validation_steps=50,\n",
    "      verbose=2)"
   ]
  },
  {
   "cell_type": "code",
   "execution_count": null,
   "metadata": {},
   "outputs": [],
   "source": []
  }
 ],
 "metadata": {
  "kernelspec": {
   "display_name": "Python 3",
   "language": "python",
   "name": "python3"
  },
  "language_info": {
   "codemirror_mode": {
    "name": "ipython",
    "version": 3
   },
   "file_extension": ".py",
   "mimetype": "text/x-python",
   "name": "python",
   "nbconvert_exporter": "python",
   "pygments_lexer": "ipython3",
   "version": "3.6.5"
  }
 },
 "nbformat": 4,
 "nbformat_minor": 2
}
