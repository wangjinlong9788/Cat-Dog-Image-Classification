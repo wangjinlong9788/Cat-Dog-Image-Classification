{
 "cells": [
  {
   "cell_type": "code",
   "execution_count": 1,
   "metadata": {},
   "outputs": [
    {
     "data": {
      "text/plain": [
       "'make'"
      ]
     },
     "execution_count": 1,
     "metadata": {},
     "output_type": "execute_result"
    }
   ],
   "source": [
    "import re\n",
    "rhyme=re.search('.ake','I would make a cake, but I hate to bake')\n",
    "rhyme.group()"
   ]
  },
  {
   "cell_type": "code",
   "execution_count": 2,
   "metadata": {},
   "outputs": [],
   "source": [
    "import os\n",
    "os.chdir('C:\\\\Users\\\\jinlong\\\\Desktop')\n"
   ]
  },
  {
   "cell_type": "code",
   "execution_count": 3,
   "metadata": {},
   "outputs": [
    {
     "name": "stdout",
     "output_type": "stream",
     "text": [
      "\n",
      "Debugger\n",
      "\n",
      "\n",
      "\n",
      "This sem’s subjects\n",
      "\n",
      "\n",
      "\n",
      "Python, C++, Java\n",
      "\n",
      "\n",
      "\n",
      "HTML, CSS, jQuery, JavaScript\n",
      "\n",
      "\n",
      "\n",
      "OS, DBMS, DS, ADA\n"
     ]
    }
   ],
   "source": [
    "for line in reversed(list(open('Today.txt'))):\n",
    "   print(line.rstrip())"
   ]
  },
  {
   "cell_type": "code",
   "execution_count": 6,
   "metadata": {},
   "outputs": [
    {
     "name": "stdout",
     "output_type": "stream",
     "text": [
      "OS, DBMS, \n",
      "readline: DS, ADA\n",
      "\n",
      "readlines: ['\\n', '\\n', '\\n', 'HTML, CSS, jQuery, JavaScript\\n']\n"
     ]
    }
   ],
   "source": [
    "f = open(\"Today.txt\",\"r+\")\n",
    "size=10\n",
    "content = f.read(size)#     f.readline(size)   f.readlines()\n",
    "print(content)\n",
    "content= f.readline(size)\n",
    "print(\"readline:\",content)\n",
    "content= f.readlines(size)\n",
    "print(\"readlines:\",content)"
   ]
  },
  {
   "cell_type": "code",
   "execution_count": 13,
   "metadata": {},
   "outputs": [
    {
     "name": "stdout",
     "output_type": "stream",
     "text": [
      "['OS, DBMS, DS, ADA\\n', '\\n', '\\n', '\\n', 'HTML, CSS, jQuery, JavaScript\\n', '\\n', '\\n', '\\n', 'Python, C++, Java\\n', '\\n', '\\n', '\\n', 'This sem’s subjects\\n', '\\n', '\\n', '\\n', 'Debugger\\n', '\\n']\n"
     ]
    }
   ],
   "source": [
    "with open(\"Today.txt\",\"r+\")  as f:\n",
    "    print(f.readlines())"
   ]
  },
  {
   "cell_type": "code",
   "execution_count": 14,
   "metadata": {},
   "outputs": [
    {
     "name": "stdout",
     "output_type": "stream",
     "text": [
      "<__main__.Test object at 0x0000024744F8F630>\n",
      "<class '__main__.Test'>\n"
     ]
    }
   ],
   "source": [
    "class Test:\n",
    "    def prt(self):\n",
    "        print(self)\n",
    "        print(self.__class__)\n",
    " \n",
    "t = Test()\n",
    "t.prt()"
   ]
  },
  {
   "cell_type": "code",
   "execution_count": 16,
   "metadata": {},
   "outputs": [],
   "source": [
    "#!/usr/bin/python\n",
    "# -*- coding: UTF-8 -*-\n",
    " \n",
    "class Employee:\n",
    "   '所有员工的基类'\n",
    "   empCount = 0\n",
    " \n",
    "   def __init__(self, name, salary):#第一种方法__init__()方法是一种特殊的方法，被称为类的构造函数或初始化方法，\n",
    "     #当创建了这个类的实例时就会调用该方法\n",
    "      self.name = name\n",
    "      self.salary = salary\n",
    "      Employee.empCount += 1\n",
    "   \n",
    "   def displayCount(self):#self 代表类的实例，self 在定义类的方法时是必须有的，虽然在调用时不必传入相应的参数。\n",
    "\n",
    "     print(\"Total Employee %d\" % Employee.empCount)\n",
    " \n",
    "   def displayEmployee(self):#self 不是 python 关键字，我们把他换成 runoob 也是可以正常执行的\n",
    "      print(\"Name : \", self.name,  \", Salary: \", self.salary)"
   ]
  },
  {
   "cell_type": "code",
   "execution_count": 20,
   "metadata": {},
   "outputs": [
    {
     "name": "stdout",
     "output_type": "stream",
     "text": [
      "Name :  Zara , Salary:  2000\n",
      "Name :  Manni , Salary:  5000\n",
      "Total Employee 8\n"
     ]
    }
   ],
   "source": [
    "#\"创建 Employee 类的第一个对象\"\n",
    "emp1 = Employee(\"Zara\", 2000)\n",
    "#\"创建 Employee 类的第二个对象\"\n",
    "emp2 = Employee(\"Manni\", 5000)\n",
    "emp1.displayEmployee()\n",
    "emp2.displayEmployee()\n",
    "print(\"Total Employee %d\" % Employee.empCount)\n",
    "emp1.age = 7  # 添加一个 'age' 属性\n",
    "emp1.age = 8  # 修改 'age' 属性\n",
    "del emp1.age  # 删除 'age' 属性"
   ]
  },
  {
   "cell_type": "code",
   "execution_count": 21,
   "metadata": {},
   "outputs": [
    {
     "ename": "AttributeError",
     "evalue": "'Employee' object has no attribute 'age'",
     "output_type": "error",
     "traceback": [
      "\u001b[1;31m---------------------------------------------------------------------------\u001b[0m",
      "\u001b[1;31mAttributeError\u001b[0m                            Traceback (most recent call last)",
      "\u001b[1;32m<ipython-input-21-edc614bb1939>\u001b[0m in \u001b[0;36m<module>\u001b[1;34m()\u001b[0m\n\u001b[0;32m      1\u001b[0m \u001b[0mhasattr\u001b[0m\u001b[1;33m(\u001b[0m\u001b[0memp1\u001b[0m\u001b[1;33m,\u001b[0m \u001b[1;34m'age'\u001b[0m\u001b[1;33m)\u001b[0m    \u001b[1;31m# 如果存在 'age' 属性返回 True。\u001b[0m\u001b[1;33m\u001b[0m\u001b[0m\n\u001b[1;32m----> 2\u001b[1;33m \u001b[0mgetattr\u001b[0m\u001b[1;33m(\u001b[0m\u001b[0memp1\u001b[0m\u001b[1;33m,\u001b[0m \u001b[1;34m'age'\u001b[0m\u001b[1;33m)\u001b[0m    \u001b[1;31m# 返回 'age' 属性的值\u001b[0m\u001b[1;33m\u001b[0m\u001b[0m\n\u001b[0m\u001b[0;32m      3\u001b[0m \u001b[0msetattr\u001b[0m\u001b[1;33m(\u001b[0m\u001b[0memp1\u001b[0m\u001b[1;33m,\u001b[0m \u001b[1;34m'age'\u001b[0m\u001b[1;33m,\u001b[0m \u001b[1;36m8\u001b[0m\u001b[1;33m)\u001b[0m \u001b[1;31m# 添加属性 'age' 值为 8\u001b[0m\u001b[1;33m\u001b[0m\u001b[0m\n\u001b[0;32m      4\u001b[0m \u001b[0mdelattr\u001b[0m\u001b[1;33m(\u001b[0m\u001b[0memp1\u001b[0m\u001b[1;33m,\u001b[0m \u001b[1;34m'age'\u001b[0m\u001b[1;33m)\u001b[0m    \u001b[1;31m# 删除属性 'age'\u001b[0m\u001b[1;33m\u001b[0m\u001b[0m\n",
      "\u001b[1;31mAttributeError\u001b[0m: 'Employee' object has no attribute 'age'"
     ]
    }
   ],
   "source": [
    "hasattr(emp1, 'age')    # 如果存在 'age' 属性返回 True。\n",
    "getattr(emp1, 'age')    # 返回 'age' 属性的值\n",
    "setattr(emp1, 'age', 8) # 添加属性 'age' 值为 8\n",
    "delattr(emp1, 'age')    # 删除属性 'age'"
   ]
  },
  {
   "cell_type": "code",
   "execution_count": 22,
   "metadata": {},
   "outputs": [
    {
     "name": "stdout",
     "output_type": "stream",
     "text": [
      "Employee.__doc__: 所有员工的基类\n",
      "Employee.__name__: Employee\n",
      "Employee.__module__: __main__\n",
      "Employee.__bases__: (<class 'object'>,)\n",
      "Employee.__dict__: {'__module__': '__main__', '__doc__': '所有员工的基类', 'empCount': 0, '__init__': <function Employee.__init__ at 0x0000024744F789D8>, 'displayCount': <function Employee.displayCount at 0x0000024744F787B8>, 'displayEmployee': <function Employee.displayEmployee at 0x0000024744F788C8>, '__dict__': <attribute '__dict__' of 'Employee' objects>, '__weakref__': <attribute '__weakref__' of 'Employee' objects>}\n"
     ]
    }
   ],
   "source": [
    "#!/usr/bin/python\n",
    "# -*- coding: UTF-8 -*-\n",
    " \n",
    "class Employee:\n",
    "   '所有员工的基类'\n",
    "   empCount = 0\n",
    " \n",
    "   def __init__(self, name, salary):\n",
    "      self.name = name\n",
    "      self.salary = salary\n",
    "      Employee.empCount += 1\n",
    "   \n",
    "   def displayCount(self):\n",
    "     print (\"Total Employee %d\" % Employee.empCount)\n",
    " \n",
    "   def displayEmployee(self):\n",
    "      print( \"Name : \", self.name,  \", Salary: \", self.salary)\n",
    " \n",
    "print (\"Employee.__doc__:\", Employee.__doc__)\n",
    "print (\"Employee.__name__:\", Employee.__name__)\n",
    "print (\"Employee.__module__:\", Employee.__module__)\n",
    "print (\"Employee.__bases__:\", Employee.__bases__)\n",
    "print (\"Employee.__dict__:\", Employee.__dict__)"
   ]
  },
  {
   "cell_type": "code",
   "execution_count": 24,
   "metadata": {},
   "outputs": [
    {
     "name": "stdout",
     "output_type": "stream",
     "text": [
      "[40]\n",
      "[-1]\n"
     ]
    }
   ],
   "source": [
    "a = 40      # 创建对象  <40>\n",
    "b = a       # 增加引用， <40> 的计数\n",
    "c = [b]     # 增加引用.  <40> 的计数\n",
    "print(c)\n",
    "del a       # 减少引用 <40> 的计数\n",
    "b = 100     # 减少引用 <40> 的计数\n",
    "c[0] = -1   # 减少引用 <40> 的计数\n",
    "print(c)"
   ]
  },
  {
   "cell_type": "code",
   "execution_count": 27,
   "metadata": {},
   "outputs": [
    {
     "name": "stdout",
     "output_type": "stream",
     "text": [
      "2505123199464 2505123199464 2505123199464\n",
      "Point 销毁\n"
     ]
    }
   ],
   "source": [
    "#!/usr/bin/python\n",
    "# -*- coding: UTF-8 -*-\n",
    "#析构函数 __del__ ，__del__在对象销毁的时候被调用，当对象不再被使用时，__del__方法运行： \n",
    "class Point:\n",
    "   def __init__( self, x=0, y=0):\n",
    "      self.x = x\n",
    "      self.y = y\n",
    "   def __del__(self):\n",
    "      class_name = self.__class__.__name__\n",
    "      print(class_name, \"销毁\")\n",
    " \n",
    "pt1 = Point()\n",
    "pt2 = pt1\n",
    "pt3 = pt1\n",
    "print(id(pt1), id(pt2), id(pt3)) # 打印对象的id\n",
    "del pt1\n",
    "del pt2\n",
    "del pt3"
   ]
  },
  {
   "cell_type": "code",
   "execution_count": 33,
   "metadata": {},
   "outputs": [
    {
     "name": "stdout",
     "output_type": "stream",
     "text": [
      "调用子类构造方法\n",
      "调用子类方法\n",
      "调用父类方法\n",
      "父类属性 : 200\n",
      "调用父类构造函数\n"
     ]
    }
   ],
   "source": [
    "#!/usr/bin/python\n",
    "# -*- coding: UTF-8 -*-\n",
    " \n",
    "class Parent:        # 定义父类\n",
    "   parentAttr = 100\n",
    "   def __init__(self):\n",
    "      print(\"调用父类构造函数\")\n",
    " \n",
    "   def parentMethod(self):\n",
    "      print('调用父类方法')\n",
    " \n",
    "   def setAttr(self, attr):\n",
    "      Parent.parentAttr = attr\n",
    " \n",
    "   def getAttr(self):\n",
    "      print(\"父类属性 :\", Parent.parentAttr)\n",
    " \n",
    "class Child(Parent): # 定义子类\n",
    "   def __init__(self):\n",
    "      print(\"调用子类构造方法\")\n",
    " \n",
    "   def childMethod(self):\n",
    "      print('调用子类方法')\n",
    " \n",
    "c = Child()          # 实例化子类\n",
    "c.childMethod()      # 调用子类的方法\n",
    "c.parentMethod()     # 调用父类方法\n",
    "c.setAttr(200)       # 再次调用父类的方法 - 设置属性值\n",
    "c.getAttr()          # 再次调用父类的方法 - 获取属性值\n",
    "p=Parent()\n",
    "#继承多个类 issubclass() - 布尔函数判断一个类是另一个类的子类或者子孙类，语法：issubclass(sub,sup)\n",
    "#class A:        # 定义类 A\n",
    "#.....\n",
    "\n",
    "#class B:         # 定义类 B\n",
    "#.....\n",
    "\n",
    "#class C(A, B):   # 继承类 A 和 B\n",
    "#.....\n",
    "\n"
   ]
  },
  {
   "cell_type": "code",
   "execution_count": 34,
   "metadata": {},
   "outputs": [
    {
     "name": "stdout",
     "output_type": "stream",
     "text": [
      "调用子类方法\n"
     ]
    }
   ],
   "source": [
    "#!/usr/bin/python\n",
    "# -*- coding: UTF-8 -*-\n",
    "#在子类重写你父类的方法\n",
    "class Parent:        # 定义父类\n",
    "   def myMethod(self):\n",
    "      print('调用父类方法')\n",
    " \n",
    "class Child(Parent): # 定义子类\n",
    "   def myMethod(self):\n",
    "      print('调用子类方法')\n",
    " \n",
    "c = Child()          # 子类实例\n",
    "c.myMethod()         # 子类调用重写方法"
   ]
  },
  {
   "cell_type": "code",
   "execution_count": 36,
   "metadata": {},
   "outputs": [
    {
     "name": "stdout",
     "output_type": "stream",
     "text": [
      "Vector (2, 10)\n",
      "Vector (7, 8)\n"
     ]
    }
   ],
   "source": [
    "#!/usr/bin/python\n",
    "#运算符重载\n",
    "class Vector:\n",
    "   def __init__(self, a, b):\n",
    "      self.a = a\n",
    "      self.b = b\n",
    " \n",
    "   def __str__(self):\n",
    "      return('Vector (%d, %d)' % (self.a, self.b))\n",
    "   \n",
    "   def __add__(self,other):\n",
    "      return Vector(self.a + other.a, self.b + other.b)\n",
    " \n",
    "v1 = Vector(2,10)\n",
    "v2 = Vector(5,-2)\n",
    "print(v1)\n",
    "print(v1 + v2)"
   ]
  },
  {
   "cell_type": "code",
   "execution_count": 41,
   "metadata": {},
   "outputs": [
    {
     "name": "stdout",
     "output_type": "stream",
     "text": [
      "1\n",
      "2\n",
      "2\n",
      "2\n"
     ]
    }
   ],
   "source": [
    "#!/usr/bin/python\n",
    "# -*- coding: UTF-8 -*-\n",
    "#__private_method：两个下划线开头，声明该方法为私有方法，不能在类的外部调用。在类的内部调用 self.__private_methods\n",
    " \n",
    "class JustCounter:\n",
    "    __secretCount = 0  # 私有变量\n",
    "    publicCount = 0    # 公开变量\n",
    " \n",
    "    def count(self):\n",
    "        self.__secretCount += 1\n",
    "        self.publicCount += 1\n",
    "        print(self.__secretCount)\n",
    " \n",
    "counter = JustCounter()\n",
    "counter.count()\n",
    "counter.count()\n",
    "print(counter.publicCount)\n",
    "#print(counter.__secretCount)  # 报错，实例不能访问私有变量\n",
    "#Python不允许实例化的类访问私有数据，但你可以使用 object._className__attrName（ 对象名._类名__私有属性名 ）访问属性，参考以下实例：\n",
    "print(counter._JustCounter__secretCount)\n",
    "#单下划线、双下划线、头尾双下划线说明：\n",
    "#__foo__: 定义的是特殊方法，一般是系统定义名字 ，类似 __init__() 之类的。\n",
    "#_foo: 以单下划线开头的表示的是 protected 类型的变量，即保护类型只能允许其本身与子类进行访问，不能用于 from module import *\n",
    "#__foo: 双下划线的表示的是私有类型(private)的变量, 只能是允许这个类本身进行访问了"
   ]
  },
  {
   "cell_type": "code",
   "execution_count": null,
   "metadata": {},
   "outputs": [],
   "source": []
  }
 ],
 "metadata": {
  "kernelspec": {
   "display_name": "Python 3",
   "language": "python",
   "name": "python3"
  },
  "language_info": {
   "codemirror_mode": {
    "name": "ipython",
    "version": 3
   },
   "file_extension": ".py",
   "mimetype": "text/x-python",
   "name": "python",
   "nbconvert_exporter": "python",
   "pygments_lexer": "ipython3",
   "version": "3.6.5"
  }
 },
 "nbformat": 4,
 "nbformat_minor": 2
}
